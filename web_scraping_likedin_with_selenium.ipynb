{
 "cells": [
  {
   "cell_type": "markdown",
   "metadata": {},
   "source": [
    "# IMPORTING THE REQUIRED LIBRARIES"
   ]
  },
  {
   "cell_type": "markdown",
   "metadata": {},
   "source": [
    "First, we begin by importing the required libraries."
   ]
  },
  {
   "cell_type": "code",
   "execution_count": 1,
   "metadata": {},
   "outputs": [],
   "source": [
    "# Importing the standard libraries\n",
    "import time\n",
    "import pandas as pd\n",
    "import numpy as np\n",
    "\n",
    "# Importing Selenium library and relevant classes\n",
    "import selenium\n",
    "from selenium import webdriver\n",
    "from selenium.webdriver.chrome.service import Service as ChromeService\n",
    "from webdriver_manager.chrome import ChromeDriverManager\n",
    "from selenium.webdriver.common.by import By\n",
    "from selenium.webdriver.support.ui import WebDriverWait\n",
    "from selenium.webdriver.support import expected_conditions as EC\n",
    "from selenium.webdriver.common.keys import Keys\n",
    "from bs4 import BeautifulSoup\n",
    "from selenium.webdriver.common.action_chains import ActionChains"
   ]
  },
  {
   "cell_type": "markdown",
   "metadata": {},
   "source": [
    "# USING SELENIUM, SETTING UP LINKEDIN, AND LOGGING IN"
   ]
  },
  {
   "cell_type": "markdown",
   "metadata": {},
   "source": [
    "Next, we will install the ```Selenium``` webdriver, load the LinkedIn webpage, and sign in."
   ]
  },
  {
   "cell_type": "code",
   "execution_count": 2,
   "metadata": {},
   "outputs": [],
   "source": [
    "# Installing the Selenium Chrome web driver\n",
    "# No external files need to be downloaded with this method of utilizing Selenium\n",
    "driver = webdriver.Chrome(service=ChromeService(ChromeDriverManager().install()))\n",
    "\n",
    "# Fetching the LinkedIn login page\n",
    "driver.get('https://www.linkedin.com/login');\n",
    "time.sleep(1)\n",
    "\n",
    "# Maximize Window\n",
    "driver.maximize_window()  \n",
    "driver.switch_to.window(driver.current_window_handle)\n",
    "driver.implicitly_wait(10)\n",
    "\n",
    "# Accepting page cookies\n",
    "driver.find_element(\"xpath\", \"/html/body/div/main/div[1]/div/section/div/div[2]/button[2]\").click()\n",
    "\n",
    "# User credentials to be used for the sign in\n",
    "# The account username is John Doe\n",
    "user_name = \"michael.merheb@alumni.esade.edu\"\n",
    "password = \"CloudComputing\"\n",
    "\n",
    "# Filling in the LinkedIn account username\n",
    "driver.find_element(\"xpath\", '//*[@id=\"username\"]').send_keys(user_name)\n",
    "time.sleep(1)\n",
    "\n",
    "# Filling in the LinkedIn account password \n",
    "driver.find_element(\"xpath\", '//*[@id=\"password\"]').send_keys(password)\n",
    "time.sleep(1)\n",
    "\n",
    "# Clicking on the login button\n",
    "driver.find_element(\"xpath\",  '//*[@id=\"organic-div\"]/form/div[3]/button').click()\n",
    "driver.implicitly_wait(30)"
   ]
  },
  {
   "cell_type": "markdown",
   "metadata": {},
   "source": [
    "# LOADING THE LINKEDIN JOB SEARCH PAGE"
   ]
  },
  {
   "cell_type": "markdown",
   "metadata": {},
   "source": [
    "The specific LinkedIn job search page is loaded. Again, we are scraping LinkedIn for all Data Scientist jobs in the Barcelona area."
   ]
  },
  {
   "cell_type": "code",
   "execution_count": 3,
   "metadata": {},
   "outputs": [
    {
     "name": "stdout",
     "output_type": "stream",
     "text": [
      "You are ready and set to begin scraping!\n"
     ]
    }
   ],
   "source": [
    "# Going to the LinkedIn job search results page\n",
    "driver.get(\"https://www.linkedin.com/jobs/search/?currentJobId=3270287326&geoId=107025191&keywords=data%20scientist%2C%20barcelona&location=Barcelona%2C%20Catalonia%2C%20Spain&refresh=true\")\n",
    "time.sleep(1)\n",
    "\n",
    "print('You are ready and set to begin scraping!')"
   ]
  },
  {
   "cell_type": "markdown",
   "metadata": {},
   "source": [
    "# SCRAPING LINKEDIN FOR THE DIFFERENT JOB DATA POSTED"
   ]
  },
  {
   "cell_type": "markdown",
   "metadata": {},
   "source": [
    "Next, we scrape the pages for all the data for the relevant job postings."
   ]
  },
  {
   "cell_type": "code",
   "execution_count": 5,
   "metadata": {},
   "outputs": [
    {
     "name": "stdout",
     "output_type": "stream",
     "text": [
      "LinkedIn job Data is being scraped, please wait...\n",
      "Collecting the links in the page: 1\n",
      "Done! In total, 25 links for job offers were found!\n"
     ]
    }
   ],
   "source": [
    "job_title = []\n",
    "company_name = []\n",
    "company_location = []\n",
    "state = []\n",
    "posting_date = []\n",
    "links = []\n",
    "number_of_applicants = []\n",
    "promoted = []\n",
    "workspace = []\n",
    "seniority = []\n",
    "employment_type = []\n",
    "industry = []\n",
    "python_required = []\n",
    "apply_through_linkedin = []\n",
    "number_of_employees = []\n",
    "number_of_followers = [] # BONUS QUESTION\n",
    "\n",
    "\n",
    "# Navigating the 40 pages of job postings on LinkedIn\n",
    "print('LinkedIn job Data is being scraped, please wait...')\n",
    "\n",
    "for page in range(2,3):\n",
    "    time.sleep(1)\n",
    "    jobs_block = driver.find_element(By.CSS_SELECTOR, \".jobs-search-results-list\")\n",
    "    jobs_list= jobs_block.find_elements(By.CSS_SELECTOR, '.jobs-search-results__list-item')\n",
    "\n",
    "    for job in jobs_list:\n",
    "        all_links = job.find_elements(By.TAG_NAME, 'a')\n",
    "        for link in all_links:\n",
    "            if str(link.get_attribute('href')).startswith(\"https://www.linkedin.com/jobs/view\") and link.get_attribute('href') not in links: \n",
    "                links.append(link.get_attribute('href'))\n",
    "            else:\n",
    "                pass\n",
    "        \n",
    "        # Check whether the job is promoted or not\n",
    "        promoted.append('Promoted' in job.text)\n",
    "        \n",
    "        # Selecting the title of the job card\n",
    "        title_job_card = job.find_element(By.CSS_SELECTOR, '.job-card-container__link.job-card-list__title')\n",
    "        title_job_card.click()\n",
    "\n",
    "        time.sleep(1)\n",
    "\n",
    "        # Moving to the right pane in order to obtain the other job data\n",
    "        content = driver.find_element(By.CSS_SELECTOR, '.job-view-layout.jobs-details')\n",
    "\n",
    "        # Obtaining the job title\n",
    "        try: \n",
    "            job_title.append(content.find_element(By.CSS_SELECTOR, \".t-24\").text)\n",
    "        except:\n",
    "            job_title.append(np.nan)\n",
    "\n",
    "        # Obtaining the company name\n",
    "        try:\n",
    "            company_name.append(content.find_element(By.CLASS_NAME, \"jobs-unified-top-card__company-name\").text)\n",
    "        except:\n",
    "            company_name.append(np.nan)\n",
    "\n",
    "        # Obtaining the company location\n",
    "        try: \n",
    "            company_location.append(content.find_element(By.CLASS_NAME, \"jobs-unified-top-card__bullet\").text)\n",
    "        except:\n",
    "            company_location.append(np.nan)\n",
    "\n",
    "        # Obtaining the job posting date\n",
    "        try: \n",
    "            posting_date.append(content.find_element(By.CSS_SELECTOR, \".jobs-unified-top-card__posted-date\").text)\n",
    "        except:\n",
    "            posting_date.append(np.nan)\n",
    "        \n",
    "        # Obtaining the job's number of applicants\n",
    "        try: \n",
    "            number_of_applicants.append(content.find_element(By.CSS_SELECTOR, \".jobs-unified-top-card__applicant-count\").text)\n",
    "        except:\n",
    "            number_of_applicants.append(np.nan)\n",
    "\n",
    "        # Obtaining the industry that the company is in\n",
    "        try: \n",
    "            industry.append(content.find_elements(By.CSS_SELECTOR, '.mt5.mb2 ul li span')[1].text)\n",
    "        except:\n",
    "            industry.append(np.nan)\n",
    "\n",
    "        # Obtaining whether the job is hybrid, on-site, remote, or other\n",
    "        try: \n",
    "            workspace.append(content.find_element(By.CLASS_NAME, \"jobs-unified-top-card__workplace-type\").text)\n",
    "        except:\n",
    "            workspace.append(np.nan)\n",
    "\n",
    "        # Obtaining the job seniority\n",
    "        try: \n",
    "            seniority.append(content.find_elements(By.CSS_SELECTOR, '.mt5.mb2 ul li span')[0].text)\n",
    "        except:\n",
    "            seniority.append(np.nan)\n",
    "\n",
    "         # Obtaining the job employment type\n",
    "        try: \n",
    "            employment_type.append(content.find_elements(By.CSS_SELECTOR, '.mt5.mb2 ul li span')[0].text)\n",
    "        except:\n",
    "            employment_type.append(np.nan)\n",
    "\n",
    "        # Checking whether applying through LinkedIn is an option (True), otherwise False\n",
    "        try: \n",
    "            apply_through_linkedin.append(content.find_elements(By.CSS_SELECTOR, \".artdeco-button__text\")[0].text)\n",
    "        except:\n",
    "            apply_through_linkedin.append(np.nan)\n",
    "\n",
    "        # Checking the status of the application lifecycle\n",
    "        try: \n",
    "            state.append(content.find_elements(By.CSS_SELECTOR, '.mt5.mb2 ul li span')[-1].text)\n",
    "        except:\n",
    "            state.append(np.nan)\n",
    "\n",
    "        # Find if Python is required for the job\n",
    "        contents = driver.find_elements(By.CSS_SELECTOR, \".jobs-box__html-content.jobs-description-content__text.t-14.t-normal span\")\n",
    "        for content in contents:\n",
    "            try:\n",
    "                if 'Python' or 'python' in python_required.append(content).text:\n",
    "                    python_required.append(True)\n",
    "                else:\n",
    "                    python_required.append(False)\n",
    "            except:\n",
    "                python_required.append(np.nan) \n",
    "            pass\n",
    "\n",
    "        # Finding the company's number of followers\n",
    "        try:\n",
    "            company_info_at_bottom_of_page = driver.find_element(By.CSS_SELECTOR, '.jobs-company.jobs-box--fadein.mb4.jobs-company--two-pane') # Defining the location of the bottom of the page\n",
    "            driver.execute_script(\"arguments[0].scrollIntoView();\", company_info_at_bottom_of_page) # Scrolling down the page on the right till company info card appears\n",
    "        \n",
    "            content = driver.find_element(By.CSS_SELECTOR, \".jobs-company__box\")\n",
    "\n",
    "        except:\n",
    "            pass\n",
    "          \n",
    "        # Getting the company number of followers -> BONUS QUESTION\n",
    "        try: \n",
    "            number_of_followers.append(content.find_element(By.CSS_SELECTOR, \".artdeco-entity-lockup__subtitle\").text)\n",
    "        except:\n",
    "            number_of_followers.append(np.nan)\n",
    "\n",
    "        driver.execute_script(\"arguments[0].scrollIntoView();\", job)\n",
    "    \n",
    "    print(f'Collecting the links in the page: {page-1}')\n",
    "\n",
    "    # go to next page:\n",
    "    driver.find_element(\"xpath\", f\"//button[@aria-label='Page {page}']\").click()\n",
    "    \n",
    "    time.sleep(1)\n",
    "    \n",
    "print('Done! In total, ' + str(len(links)) + ' links for job offers were found!')"
   ]
  },
  {
   "cell_type": "markdown",
   "metadata": {},
   "source": [
    "# HANDLING THE DATA OBTAINED"
   ]
  },
  {
   "cell_type": "markdown",
   "metadata": {},
   "source": [
    "Now we have all the data we need. However, before creating the ```DataFrame```, the data obtained needs to be in a specific data type as outlined at the beginning of the documentation.\n",
    "To do this, some data types need to stay as ```object``` but the string needs to be cleaned from any unnecessary spaces. In addition, some data types need to be changed to ```int``` or ```bool```."
   ]
  },
  {
   "cell_type": "code",
   "execution_count": 6,
   "metadata": {},
   "outputs": [],
   "source": [
    "# Dealing with the state of the job posted\n",
    "state_new = []\n",
    "for state_element in state:\n",
    "    if state_element =='Actively recruiting':\n",
    "        state_new.append('On-going')\n",
    "    elif state_element == 'Early Applicant':\n",
    "        state_new.append('Early Applications')\n",
    "    else:\n",
    "        state_new.append('Others')\n",
    "\n",
    "# Dealing with the number of applicants\n",
    "number_of_applicants_new = []\n",
    "for applicant in number_of_applicants:\n",
    "    if type(applicant) == float:\n",
    "        number_of_applicants_new.append(np.nan)\n",
    "    else:\n",
    "        if int(applicant.split(' ')[0]) < 25:\n",
    "            number_of_applicants_new.append(int(('25')))\n",
    "        else:\n",
    "            number_of_applicants_new.append(int(applicant.split(' ')[0]))\n",
    "\n",
    "# Dealing with seniority and employment type\n",
    "seniority_new = []\n",
    "employment_type = []\n",
    "for element in seniority:\n",
    "    employment_type.append(element.split(' · ')[0])\n",
    "    try:\n",
    "        seniority_new.append(element.split(' · ')[1])\n",
    "    except:\n",
    "        seniority_new.append(np.nan)\n",
    "\n",
    "# Dealing with the industry the job is in\n",
    "industry_new = []\n",
    "for element in industry:\n",
    "    try:\n",
    "        industry_new.append(element.split(' · ')[1])\n",
    "    except:\n",
    "        industry_new.append(np.nan)\n",
    "\n",
    "# Dealing with the number of employees of the company\n",
    "employees_range_data = []\n",
    "number_of_employees = []\n",
    "for element in industry:\n",
    "    employees_range_data.append(element.split(' · ')[0].split(' ')[0])\n",
    "\n",
    "for element_x in employees_range_data:\n",
    "    value_to_append = element_x.split('-')[-1]\n",
    "    number_of_employees.append(int(value_to_append.split('+')[0].replace(',','')))\n",
    "\n",
    "#Dealing with the option of applying through LinkedIn\n",
    "apply_through_linkedin_new = []\n",
    "for result in apply_through_linkedin:\n",
    "    if result == \"Easy Apply\":\n",
    "        apply_through_linkedin_new.append(True)\n",
    "    else:\n",
    "        apply_through_linkedin_new.append(False)\n",
    "\n",
    "# Dealing with the company number of followers --> BONUS\n",
    "# The value was obtained in integer form before using in the DataFrame\n",
    "number_of_followers_new = []\n",
    "try:\n",
    "    for element in number_of_followers:\n",
    "        number_of_followers_new.append(int(element.split()[0].replace(',','')))\n",
    "except:\n",
    "    pass"
   ]
  },
  {
   "cell_type": "markdown",
   "metadata": {},
   "source": [
    "# MERGING THE DATA INTO A DATAFRAME"
   ]
  },
  {
   "cell_type": "markdown",
   "metadata": {},
   "source": [
    "Now that we have the data ready, we can go ahead and create the ```DataFrame```!"
   ]
  },
  {
   "cell_type": "code",
   "execution_count": 12,
   "metadata": {},
   "outputs": [
    {
     "name": "stdout",
     "output_type": "stream",
     "text": [
      "The size of our resulting DataFrame is 25 rows & 15 columns!\n",
      "Below we can see the first instances of our DataFrame:\n"
     ]
    },
    {
     "data": {
      "text/html": [
       "<div>\n",
       "<style scoped>\n",
       "    .dataframe tbody tr th:only-of-type {\n",
       "        vertical-align: middle;\n",
       "    }\n",
       "\n",
       "    .dataframe tbody tr th {\n",
       "        vertical-align: top;\n",
       "    }\n",
       "\n",
       "    .dataframe thead th {\n",
       "        text-align: right;\n",
       "    }\n",
       "</style>\n",
       "<table border=\"1\" class=\"dataframe\">\n",
       "  <thead>\n",
       "    <tr style=\"text-align: right;\">\n",
       "      <th></th>\n",
       "      <th>Job Title</th>\n",
       "      <th>Company Name</th>\n",
       "      <th>Company Location</th>\n",
       "      <th>State</th>\n",
       "      <th>Posting Date</th>\n",
       "      <th>Offer URL</th>\n",
       "      <th>Number of Applicants</th>\n",
       "      <th>Promoted</th>\n",
       "      <th>Workspace</th>\n",
       "      <th>Seniority</th>\n",
       "      <th>Employment Type</th>\n",
       "      <th>Industry</th>\n",
       "      <th>Python Required</th>\n",
       "      <th>Application through LinkedIn</th>\n",
       "      <th>Number of employees</th>\n",
       "    </tr>\n",
       "  </thead>\n",
       "  <tbody>\n",
       "    <tr>\n",
       "      <th>0</th>\n",
       "      <td>Tech Hub - Data Scientist - Catman</td>\n",
       "      <td>Media Markt Iberia</td>\n",
       "      <td>El Prat de Llobregat, Catalonia, Spain</td>\n",
       "      <td>Others</td>\n",
       "      <td>1 month ago</td>\n",
       "      <td>https://www.linkedin.com/jobs/view/3370446510/...</td>\n",
       "      <td>25.0</td>\n",
       "      <td>False</td>\n",
       "      <td>Hybrid</td>\n",
       "      <td>Entry level</td>\n",
       "      <td>Contract</td>\n",
       "      <td>Computers and Electronics Manufacturing</td>\n",
       "      <td>True</td>\n",
       "      <td>False</td>\n",
       "      <td>10000</td>\n",
       "    </tr>\n",
       "    <tr>\n",
       "      <th>1</th>\n",
       "      <td>B2B Sales Specialist (Spanish-speaking)</td>\n",
       "      <td>Venuu</td>\n",
       "      <td>Barcelona, Catalonia, Spain</td>\n",
       "      <td>Others</td>\n",
       "      <td>8 minutes ago</td>\n",
       "      <td>https://www.linkedin.com/jobs/view/3374503275/...</td>\n",
       "      <td>29.0</td>\n",
       "      <td>True</td>\n",
       "      <td>Hybrid</td>\n",
       "      <td>NaN</td>\n",
       "      <td>Full-time</td>\n",
       "      <td>NaN</td>\n",
       "      <td>True</td>\n",
       "      <td>False</td>\n",
       "      <td>50</td>\n",
       "    </tr>\n",
       "    <tr>\n",
       "      <th>2</th>\n",
       "      <td>Kubernetes Platform Engineer Focusing On Adoption</td>\n",
       "      <td>Roche</td>\n",
       "      <td>Barcelona, Catalonia, Spain</td>\n",
       "      <td>On-going</td>\n",
       "      <td>1 week ago</td>\n",
       "      <td>https://www.linkedin.com/jobs/view/3373767266/...</td>\n",
       "      <td>25.0</td>\n",
       "      <td>True</td>\n",
       "      <td>On-site</td>\n",
       "      <td>Associate</td>\n",
       "      <td>Full-time</td>\n",
       "      <td>Biotechnology Research</td>\n",
       "      <td>True</td>\n",
       "      <td>False</td>\n",
       "      <td>10001</td>\n",
       "    </tr>\n",
       "    <tr>\n",
       "      <th>3</th>\n",
       "      <td>Data Scientist (m/f/d)</td>\n",
       "      <td>ZF Group</td>\n",
       "      <td>Barcelona, Catalonia, Spain</td>\n",
       "      <td>On-going</td>\n",
       "      <td>1 day ago</td>\n",
       "      <td>https://www.linkedin.com/jobs/view/3387401304/...</td>\n",
       "      <td>41.0</td>\n",
       "      <td>False</td>\n",
       "      <td>Hybrid</td>\n",
       "      <td>Entry level</td>\n",
       "      <td>Full-time</td>\n",
       "      <td>Motor Vehicle Manufacturing</td>\n",
       "      <td>True</td>\n",
       "      <td>False</td>\n",
       "      <td>10001</td>\n",
       "    </tr>\n",
       "    <tr>\n",
       "      <th>4</th>\n",
       "      <td>Data Scientist</td>\n",
       "      <td>Product Madness 📱🎮</td>\n",
       "      <td>Barcelona, Catalonia, Spain</td>\n",
       "      <td>On-going</td>\n",
       "      <td>1 day ago</td>\n",
       "      <td>https://www.linkedin.com/jobs/view/3361150448/...</td>\n",
       "      <td>128.0</td>\n",
       "      <td>False</td>\n",
       "      <td>Hybrid</td>\n",
       "      <td>Entry level</td>\n",
       "      <td>Full-time</td>\n",
       "      <td>Computer Games</td>\n",
       "      <td>True</td>\n",
       "      <td>False</td>\n",
       "      <td>1000</td>\n",
       "    </tr>\n",
       "  </tbody>\n",
       "</table>\n",
       "</div>"
      ],
      "text/plain": [
       "                                           Job Title        Company Name  \\\n",
       "0                 Tech Hub - Data Scientist - Catman  Media Markt Iberia   \n",
       "1            B2B Sales Specialist (Spanish-speaking)               Venuu   \n",
       "2  Kubernetes Platform Engineer Focusing On Adoption               Roche   \n",
       "3                             Data Scientist (m/f/d)            ZF Group   \n",
       "4                                     Data Scientist  Product Madness 📱🎮   \n",
       "\n",
       "                         Company Location     State   Posting Date  \\\n",
       "0  El Prat de Llobregat, Catalonia, Spain    Others    1 month ago   \n",
       "1             Barcelona, Catalonia, Spain    Others  8 minutes ago   \n",
       "2             Barcelona, Catalonia, Spain  On-going     1 week ago   \n",
       "3             Barcelona, Catalonia, Spain  On-going      1 day ago   \n",
       "4             Barcelona, Catalonia, Spain  On-going      1 day ago   \n",
       "\n",
       "                                           Offer URL  Number of Applicants  \\\n",
       "0  https://www.linkedin.com/jobs/view/3370446510/...                  25.0   \n",
       "1  https://www.linkedin.com/jobs/view/3374503275/...                  29.0   \n",
       "2  https://www.linkedin.com/jobs/view/3373767266/...                  25.0   \n",
       "3  https://www.linkedin.com/jobs/view/3387401304/...                  41.0   \n",
       "4  https://www.linkedin.com/jobs/view/3361150448/...                 128.0   \n",
       "\n",
       "   Promoted Workspace    Seniority Employment Type  \\\n",
       "0     False    Hybrid  Entry level        Contract   \n",
       "1      True    Hybrid          NaN       Full-time   \n",
       "2      True   On-site    Associate       Full-time   \n",
       "3     False    Hybrid  Entry level       Full-time   \n",
       "4     False    Hybrid  Entry level       Full-time   \n",
       "\n",
       "                                  Industry  Python Required  \\\n",
       "0  Computers and Electronics Manufacturing             True   \n",
       "1                                      NaN             True   \n",
       "2                   Biotechnology Research             True   \n",
       "3              Motor Vehicle Manufacturing             True   \n",
       "4                           Computer Games             True   \n",
       "\n",
       "   Application through LinkedIn  Number of employees  \n",
       "0                         False                10000  \n",
       "1                         False                   50  \n",
       "2                         False                10001  \n",
       "3                         False                10001  \n",
       "4                         False                 1000  "
      ]
     },
     "execution_count": 12,
     "metadata": {},
     "output_type": "execute_result"
    }
   ],
   "source": [
    "# Creating the DataFrame\n",
    "data = {'Job Title':job_title, 'Company Name':company_name, 'Company Location':company_location, 'State':state_new, 'Posting Date':posting_date, 'Offer URL':links,\n",
    "'Number of Applicants':number_of_applicants_new, 'Promoted':promoted, 'Workspace':workspace, 'Seniority':seniority_new, 'Employment Type':employment_type,\n",
    "'Industry': industry_new, 'Python Required':python_required, 'Application through LinkedIn':apply_through_linkedin_new, 'Number of employees':number_of_employees}\n",
    "df = pd.DataFrame(data)\n",
    "\n",
    "# Checking the size of our DataFrame\n",
    "print(\"The size of our resulting DataFrame is\", df.shape[0], \"rows &\", df.shape[1], \"columns!\")\n",
    "\n",
    "# Printing the first 5 instances of the DataFrame\n",
    "print(\"Below we can see the first instances of our DataFrame:\")\n",
    "df.head(5)"
   ]
  },
  {
   "cell_type": "code",
   "execution_count": 11,
   "metadata": {},
   "outputs": [
    {
     "data": {
      "text/plain": [
       "{'Contract', 'Full-time'}"
      ]
     },
     "execution_count": 11,
     "metadata": {},
     "output_type": "execute_result"
    }
   ],
   "source": [
    "set(employment_type)"
   ]
  },
  {
   "cell_type": "markdown",
   "metadata": {},
   "source": [
    "We can finally perform a sanity check on the ```data types``` of our ```DataFrame``` values obtained."
   ]
  },
  {
   "cell_type": "code",
   "execution_count": null,
   "metadata": {},
   "outputs": [
    {
     "data": {
      "text/plain": [
       "Job Title                        object\n",
       "Company Name                     object\n",
       "Company Location                 object\n",
       "State                            object\n",
       "Posting Date                     object\n",
       "Offer URL                        object\n",
       "Number of Applicants            float64\n",
       "Promoted                           bool\n",
       "Workspace                        object\n",
       "Seniority                        object\n",
       "Employment Type                  object\n",
       "Industry                         object\n",
       "Python Required                    bool\n",
       "Application through LinkedIn       bool\n",
       "Number of employees               int64\n",
       "Number of followers               int64\n",
       "dtype: object"
      ]
     },
     "execution_count": 21,
     "metadata": {},
     "output_type": "execute_result"
    }
   ],
   "source": [
    "df.dtypes"
   ]
  },
  {
   "cell_type": "code",
   "execution_count": 9,
   "metadata": {},
   "outputs": [
    {
     "data": {
      "text/plain": [
       "25"
      ]
     },
     "execution_count": 9,
     "metadata": {},
     "output_type": "execute_result"
    }
   ],
   "source": [
    "len(number_of_employees)"
   ]
  },
  {
   "cell_type": "code",
   "execution_count": null,
   "metadata": {},
   "outputs": [],
   "source": []
  }
 ],
 "metadata": {
  "kernelspec": {
   "display_name": "Python 3.9.12 ('base')",
   "language": "python",
   "name": "python3"
  },
  "language_info": {
   "codemirror_mode": {
    "name": "ipython",
    "version": 3
   },
   "file_extension": ".py",
   "mimetype": "text/x-python",
   "name": "python",
   "nbconvert_exporter": "python",
   "pygments_lexer": "ipython3",
   "version": "3.9.12"
  },
  "orig_nbformat": 4,
  "vscode": {
   "interpreter": {
    "hash": "7a803822fdc46f2b4caa60ccc6a735d53bb2e490fe3b101f460d013705c05e5a"
   }
  }
 },
 "nbformat": 4,
 "nbformat_minor": 2
}
